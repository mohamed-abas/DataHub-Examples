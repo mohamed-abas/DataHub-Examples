{
 "cells": [
  {
   "cell_type": "markdown",
   "id": "883ed9e5",
   "metadata": {},
   "source": [
    "# Create data flow and data jobs"
   ]
  },
  {
   "cell_type": "code",
   "execution_count": 11,
   "id": "80c17afb",
   "metadata": {},
   "outputs": [],
   "source": [
    "import uuid\n",
    "from datetime import datetime, timezone\n",
    "from datahub.api.entities.datajob import DataFlow, DataJob\n",
    "from datahub.api.entities.dataprocess.dataprocess_instance import (\n",
    "    DataProcessInstance,\n",
    "    InstanceRunResult,\n",
    ")\n",
    "from datahub.emitter.rest_emitter import DatahubRestEmitter"
   ]
  },
  {
   "cell_type": "code",
   "execution_count": 12,
   "id": "2b2491ca",
   "metadata": {},
   "outputs": [],
   "source": [
    "token ="
   ]
  },
  {
   "cell_type": "code",
   "execution_count": 13,
   "id": "543b37cb",
   "metadata": {},
   "outputs": [],
   "source": [
    "emitter = DatahubRestEmitter(gms_server=\"http://localhost:8080\", extra_headers={'Authorization':  'Bearer '+token,\n",
    "                                            'Content-Type': 'application/json',})"
   ]
  },
  {
   "cell_type": "code",
   "execution_count": 14,
   "id": "61a063f3",
   "metadata": {},
   "outputs": [],
   "source": [
    "jobFlow = DataFlow(env=\"EI\", orchestrator=\"Azure Data Factory\", id=\"Centers Analysis Flow\")\n",
    "jobFlow.emit(emitter)"
   ]
  },
  {
   "cell_type": "code",
   "execution_count": 15,
   "id": "0dc3d241",
   "metadata": {},
   "outputs": [],
   "source": [
    "dataJob = DataJob(flow_urn=jobFlow.urn, id=\"job_dim_center\", name=\"Populate Centers Dimension\")\n",
    "dataJob.properties[\"Dimension Type\"] = \"Delta\"\n",
    "dataJob.emit(emitter)"
   ]
  },
  {
   "cell_type": "code",
   "execution_count": 16,
   "id": "2deb2ed2",
   "metadata": {},
   "outputs": [],
   "source": [
    "dataJob2 = DataJob(flow_urn=jobFlow.urn, id=\"job_dim_employee\", name=\"Populate Employee Dimension\")\n",
    "dataJob2.properties[\"Dimension Type\"] = \"Delta\"\n",
    "dataJob2.upstream_urns.append(dataJob.urn)\n",
    "dataJob2.emit(emitter)"
   ]
  },
  {
   "cell_type": "code",
   "execution_count": 17,
   "id": "8ba3791b",
   "metadata": {},
   "outputs": [],
   "source": [
    "dataJob3 = DataJob(flow_urn=jobFlow.urn, id=\"job_dim_service\", name=\"Populate Service Dimension\")\n",
    "dataJob3.properties[\"Dimension Type\"] = \"Slowly Changing Dimension Type 1\"\n",
    "dataJob3.upstream_urns.append(dataJob2.urn)\n",
    "dataJob3.emit(emitter)"
   ]
  },
  {
   "cell_type": "code",
   "execution_count": 18,
   "id": "5b2ce423",
   "metadata": {},
   "outputs": [],
   "source": [
    "dataJob4 = DataJob(flow_urn=jobFlow.urn, id=\"job_dim_trs_type\", name=\"Populate Transaction Type Dimension\")\n",
    "dataJob4.properties[\"Dimension Type\"] = \"Delta\"\n",
    "dataJob4.upstream_urns.append(dataJob3.urn)\n",
    "dataJob4.emit(emitter)"
   ]
  },
  {
   "cell_type": "code",
   "execution_count": 19,
   "id": "408061dc",
   "metadata": {},
   "outputs": [],
   "source": [
    "dataJob5 = DataJob(flow_urn=jobFlow.urn, id=\"job_dim_file_type\", name=\"Populate File Type Dimension\")\n",
    "dataJob5.properties[\"Dimension Type\"] = \"Delta\"\n",
    "dataJob5.upstream_urns.append(dataJob4.urn)\n",
    "dataJob5.emit(emitter)"
   ]
  },
  {
   "cell_type": "code",
   "execution_count": 20,
   "id": "5cff09e6",
   "metadata": {},
   "outputs": [],
   "source": [
    "dataJob6 = DataJob(flow_urn=jobFlow.urn, id=\"job_fact_centers\", name=\"Populate Centers Fact\")\n",
    "dataJob6.properties[\"Fact Type\"] = \"Transactional\"\n",
    "dataJob6.upstream_urns.append(dataJob5.urn)\n",
    "dataJob6.emit(emitter)"
   ]
  },
  {
   "cell_type": "code",
   "execution_count": null,
   "id": "2738bcc7",
   "metadata": {},
   "outputs": [],
   "source": []
  }
 ],
 "metadata": {
  "kernelspec": {
   "display_name": "Python 3 (ipykernel)",
   "language": "python",
   "name": "python3"
  },
  "language_info": {
   "codemirror_mode": {
    "name": "ipython",
    "version": 3
   },
   "file_extension": ".py",
   "mimetype": "text/x-python",
   "name": "python",
   "nbconvert_exporter": "python",
   "pygments_lexer": "ipython3",
   "version": "3.10.12"
  }
 },
 "nbformat": 4,
 "nbformat_minor": 5
}
