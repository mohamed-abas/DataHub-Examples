{
 "cells": [
  {
   "cell_type": "markdown",
   "id": "dae2d918",
   "metadata": {},
   "source": [
    "## Get missing tables from an ingestion CLI"
   ]
  },
  {
   "cell_type": "code",
   "execution_count": null,
   "id": "c801d004",
   "metadata": {},
   "outputs": [],
   "source": [
    "#### data should be taken from DB\n",
    "with open('data', 'r') as file:\n",
    "    # Create an empty list to store the lines\n",
    "    comm = []\n",
    "\n",
    "    # Iterate over the lines of the file\n",
    "    for line in file:\n",
    "        # Remove the newline character at the end of the line\n",
    "        line = line.strip()\n",
    "\n",
    "        # Append the line to the list\n",
    "        comm.append(line)\n",
    "\n",
    "# Print the list of lines\n",
    "print(comm)"
   ]
  },
  {
   "cell_type": "code",
   "execution_count": null,
   "id": "4d5ca1fe",
   "metadata": {
    "scrolled": true
   },
   "outputs": [],
   "source": [
    "import subprocess\n",
    "import time\n",
    "\n",
    "outputlist = []\n",
    "for i in comm:\n",
    "    # print(i)\n",
    "    result = subprocess.Popen([i], stdout=subprocess.PIPE,  shell=True, text=True)\n",
    "    output = str(result.communicate())\n",
    "    outputlist.append(output)\n",
    "    time.sleep(0.5)"
   ]
  },
  {
   "cell_type": "code",
   "execution_count": null,
   "id": "ddb6172f",
   "metadata": {},
   "outputs": [],
   "source": [
    "res = {comm[i]: outputlist[i] for i in range(len(comm))}"
   ]
  },
  {
   "cell_type": "code",
   "execution_count": null,
   "id": "15a4ebd5",
   "metadata": {},
   "outputs": [],
   "source": [
    "res_filterted = {key : val for key, val in res.items()\n",
    "                   if val == \"('false\\\\n', None)\"}"
   ]
  },
  {
   "cell_type": "code",
   "execution_count": null,
   "id": "cfe71643",
   "metadata": {},
   "outputs": [],
   "source": [
    "for key, val in res_filterted.items(): \n",
    "    print(str(key).strip('python3 -m datahub exists --urn \"urn:li:dataset:(urn:li:dataPlatform:oracle,')\\\n",
    "         .strip(',EI)').strip('.'))"
   ]
  }
 ],
 "metadata": {
  "kernelspec": {
   "display_name": "Python 3 (ipykernel)",
   "language": "python",
   "name": "python3"
  },
  "language_info": {
   "codemirror_mode": {
    "name": "ipython",
    "version": 3
   },
   "file_extension": ".py",
   "mimetype": "text/x-python",
   "name": "python",
   "nbconvert_exporter": "python",
   "pygments_lexer": "ipython3",
   "version": "3.10.12"
  }
 },
 "nbformat": 4,
 "nbformat_minor": 5
}
