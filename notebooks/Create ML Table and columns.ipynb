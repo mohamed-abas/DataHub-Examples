{
 "cells": [
  {
   "cell_type": "markdown",
   "id": "6f6f8871",
   "metadata": {},
   "source": [
    "# Create ML Table & columns"
   ]
  },
  {
   "cell_type": "code",
   "execution_count": 39,
   "id": "2d212851",
   "metadata": {},
   "outputs": [],
   "source": [
    "import datahub.emitter.mce_builder as builder\n",
    "import datahub.metadata.schema_classes as models\n",
    "from datahub.emitter.mcp import MetadataChangeProposalWrapper\n",
    "from datahub.emitter.rest_emitter import DatahubRestEmitter\n",
    "from datahub.ingestion.graph.client import DatahubClientConfig, DataHubGraph\n",
    "from datahub.metadata.schema_classes import MLFeatureTablePropertiesClass"
   ]
  },
  {
   "cell_type": "code",
   "execution_count": 40,
   "id": "5fc20ef9",
   "metadata": {},
   "outputs": [],
   "source": [
    "token ="
   ]
  },
  {
   "cell_type": "code",
   "execution_count": 48,
   "id": "55652ff3",
   "metadata": {},
   "outputs": [
    {
     "data": {
      "text/plain": [
       "(datetime.datetime(2023, 7, 12, 9, 53, 3, 101561),\n",
       " datetime.datetime(2023, 7, 12, 9, 53, 3, 150695))"
      ]
     },
     "execution_count": 48,
     "metadata": {},
     "output_type": "execute_result"
    }
   ],
   "source": [
    "emitter = DatahubRestEmitter(gms_server=\"http://localhost:8080\", extra_headers={'Authorization':  'Bearer '+token,\n",
    "                                            'Content-Type': 'application/json',})\n",
    "\n",
    "feature_table_urn = builder.make_ml_feature_table_urn(\n",
    "    feature_table_name=\"ml_transactions\", platform=\"oracle\"\n",
    ")\n",
    "feature_urns = [\n",
    "    builder.make_ml_feature_urn(\n",
    "        feature_name=\"no_of_trs_yesterday\", feature_table_name=\"ml_transactions\"\n",
    "    ),\n",
    "    builder.make_ml_feature_urn(\n",
    "        feature_name=\"month\", feature_table_name=\"ml_transactions\"\n",
    "    ),\n",
    "    builder.make_ml_feature_urn(\n",
    "    feature_name=\"year\", feature_table_name=\"ml_transactions\"\n",
    "    ),\n",
    "]\n",
    "feature_table_properties = models.MLFeatureTablePropertiesClass(\n",
    "    description=\"this feature table holds columns used as features for transactions prediction daily \", mlFeatures=feature_urns\n",
    ")\n",
    "\n",
    "# MCP creation\n",
    "metadata_change_proposal = MetadataChangeProposalWrapper(\n",
    "    entityType=\"mlFeatureTable\",\n",
    "    changeType=models.ChangeTypeClass.UPSERT,\n",
    "    entityUrn=feature_table_urn,\n",
    "    aspect=feature_table_properties,\n",
    ")\n",
    "\n",
    "# Emit metadata!\n",
    "emitter.emit(metadata_change_proposal)"
   ]
  },
  {
   "cell_type": "code",
   "execution_count": 44,
   "id": "02d66990",
   "metadata": {},
   "outputs": [
    {
     "data": {
      "text/plain": [
       "(datetime.datetime(2023, 7, 12, 9, 46, 28, 301478),\n",
       " datetime.datetime(2023, 7, 12, 9, 46, 28, 317482))"
      ]
     },
     "execution_count": 44,
     "metadata": {},
     "output_type": "execute_result"
    }
   ],
   "source": [
    "# Create an emitter to DataHub over REST\n",
    "emitter = DatahubRestEmitter(gms_server=\"http://localhost:8080\", \n",
    "                             extra_headers={'Authorization':  'Bearer '+token,\n",
    "                                            'Content-Type': 'application/json',})\n",
    "\n",
    "dataset_urn = builder.make_dataset_urn(\n",
    "    name=\"dwh_fact_transactions\", platform=\"oracle\", env=\"EI\"\n",
    ")\n",
    "feature_urn = builder.make_ml_feature_urn(\n",
    "    feature_table_name=\"ml_transactions\",\n",
    "    feature_name=\"no_of_trs_yesterday\",\n",
    ")\n",
    "\n",
    "#  Create feature\n",
    "metadata_change_proposal = MetadataChangeProposalWrapper(\n",
    "    entityType=\"mlFeature\",\n",
    "    changeType=models.ChangeTypeClass.UPSERT,\n",
    "    entityUrn=feature_urn,\n",
    "    aspectName=\"mlFeatureProperties\",\n",
    "    aspect=models.MLFeaturePropertiesClass(\n",
    "        description=\"Number of transactions yesterday \", sources=[dataset_urn], dataType=\"ORDINAL\"\n",
    "    ),\n",
    ")\n",
    "\n",
    "# Emit metadata!\n",
    "emitter.emit(metadata_change_proposal)"
   ]
  },
  {
   "cell_type": "code",
   "execution_count": 45,
   "id": "de896e93",
   "metadata": {},
   "outputs": [
    {
     "data": {
      "text/plain": [
       "(datetime.datetime(2023, 7, 12, 9, 46, 28, 735881),\n",
       " datetime.datetime(2023, 7, 12, 9, 46, 28, 790441))"
      ]
     },
     "execution_count": 45,
     "metadata": {},
     "output_type": "execute_result"
    }
   ],
   "source": [
    "# Create an emitter to DataHub over REST\n",
    "emitter = DatahubRestEmitter(gms_server=\"http://localhost:8080\", \n",
    "                             extra_headers={'Authorization':  'Bearer '+token,\n",
    "                                            'Content-Type': 'application/json',})\n",
    "\n",
    "dataset_urn = builder.make_dataset_urn(\n",
    "    name=\"dwh_dim_date_time\", platform=\"oracle\", env=\"EI\"\n",
    ")\n",
    "feature_urn = builder.make_ml_feature_urn(\n",
    "    feature_table_name=\"ml_transactions\",\n",
    "    feature_name=\"month\",\n",
    ")\n",
    "\n",
    "#  Create feature\n",
    "metadata_change_proposal = MetadataChangeProposalWrapper(\n",
    "    entityType=\"mlFeature\",\n",
    "    changeType=models.ChangeTypeClass.UPSERT,\n",
    "    entityUrn=feature_urn,\n",
    "    aspectName=\"mlFeatureProperties\",\n",
    "    aspect=models.MLFeaturePropertiesClass(\n",
    "        description=\"Month represented as integer\", sources=[dataset_urn], dataType=\"ORDINAL\"\n",
    "    ),\n",
    ")\n",
    "\n",
    "# Emit metadata!\n",
    "emitter.emit(metadata_change_proposal)"
   ]
  },
  {
   "cell_type": "code",
   "execution_count": 46,
   "id": "f1d14a84",
   "metadata": {},
   "outputs": [
    {
     "data": {
      "text/plain": [
       "(datetime.datetime(2023, 7, 12, 9, 46, 29, 142270),\n",
       " datetime.datetime(2023, 7, 12, 9, 46, 29, 193423))"
      ]
     },
     "execution_count": 46,
     "metadata": {},
     "output_type": "execute_result"
    }
   ],
   "source": [
    "# Create an emitter to DataHub over REST\n",
    "emitter = DatahubRestEmitter(gms_server=\"http://localhost:8080\", \n",
    "                             extra_headers={'Authorization':  'Bearer '+token,\n",
    "                                            'Content-Type': 'application/json',})\n",
    "\n",
    "dataset_urn = builder.make_dataset_urn(\n",
    "    name=\"dwh_fact_transactions\", platform=\"oracle\", env=\"EI\"\n",
    ")\n",
    "feature_urn = builder.make_ml_feature_urn(\n",
    "    feature_table_name=\"ml_transactions\",\n",
    "    feature_name=\"year\",\n",
    ")\n",
    "\n",
    "#  Create feature\n",
    "metadata_change_proposal = MetadataChangeProposalWrapper(\n",
    "    entityType=\"mlFeature\",\n",
    "    changeType=models.ChangeTypeClass.UPSERT,\n",
    "    entityUrn=feature_urn,\n",
    "    aspectName=\"mlFeatureProperties\",\n",
    "    aspect=models.MLFeaturePropertiesClass(\n",
    "        description=\"year represented as integer\", sources=[dataset_urn], dataType=\"ORDINAL\"\n",
    "    ),\n",
    ")\n",
    "\n",
    "# Emit metadata!\n",
    "emitter.emit(metadata_change_proposal)"
   ]
  }
 ],
 "metadata": {
  "kernelspec": {
   "display_name": "Python 3 (ipykernel)",
   "language": "python",
   "name": "python3"
  },
  "language_info": {
   "codemirror_mode": {
    "name": "ipython",
    "version": 3
   },
   "file_extension": ".py",
   "mimetype": "text/x-python",
   "name": "python",
   "nbconvert_exporter": "python",
   "pygments_lexer": "ipython3",
   "version": "3.10.12"
  }
 },
 "nbformat": 4,
 "nbformat_minor": 5
}
