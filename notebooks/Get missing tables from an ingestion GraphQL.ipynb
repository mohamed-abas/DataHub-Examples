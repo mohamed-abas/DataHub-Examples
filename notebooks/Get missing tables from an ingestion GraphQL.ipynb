{
 "cells": [
  {
   "cell_type": "markdown",
   "id": "f5c65fac",
   "metadata": {},
   "source": [
    "## Get missing tables from an ingestion GraphQL"
   ]
  },
  {
   "cell_type": "code",
   "execution_count": 138,
   "id": "808258f0",
   "metadata": {},
   "outputs": [],
   "source": [
    "import requests\n",
    "import json\n",
    "import pandas as pd"
   ]
  },
  {
   "cell_type": "code",
   "execution_count": 139,
   "id": "db83808f",
   "metadata": {},
   "outputs": [],
   "source": [
    "filename = './data_2'\n",
    "with open(filename) as file:\n",
    "    lines = [line.rstrip() for line in file]"
   ]
  },
  {
   "cell_type": "code",
   "execution_count": 140,
   "id": "384fe1af",
   "metadata": {},
   "outputs": [],
   "source": [
    "token = "
   ]
  },
  {
   "cell_type": "code",
   "execution_count": 141,
   "id": "e3540e39",
   "metadata": {},
   "outputs": [],
   "source": [
    "headers={'Authorization':  'Bearer '+token,\n",
    "        'Content-Type': 'application/json',}\n",
    "conf_list = dict()"
   ]
  },
  {
   "cell_type": "code",
   "execution_count": 142,
   "id": "f9131d7b",
   "metadata": {},
   "outputs": [],
   "source": [
    "for line in lines:\n",
    "    query=\"\"\"\n",
    "        {\n",
    "          dataset(urn: \"\"\"+ line +\"\"\"  ) {\n",
    "            urn\n",
    "            properties {\n",
    "                name\n",
    "            }\n",
    "          }\n",
    "        }\"\"\"\n",
    "    url = 'http://0.0.0.0:9002/api/graphql'\n",
    "    r = requests.post(url, json={'query': query}, headers=headers)\n",
    "    json_data = json.loads(r.text)\n",
    "    try:\n",
    "        if json_data['data']['dataset']['properties'] is not None:\n",
    "            conf_list[line] = json_data['data']['dataset']['properties']['name']        \n",
    "        elif json_data['data']['dataset']['properties'] is None:\n",
    "            conf_list[line] = None\n",
    "    except:\n",
    "        conf_list[line] = 'error'\n",
    "        \n",
    "        \n",
    "\n",
    "    "
   ]
  },
  {
   "cell_type": "code",
   "execution_count": 143,
   "id": "96f3e707",
   "metadata": {},
   "outputs": [],
   "source": [
    "conf_list_filterted = {key : val for key, val in conf_list.items()\n",
    "                   if val == None or val == 'error'}\n",
    "\n"
   ]
  },
  {
   "cell_type": "code",
   "execution_count": 144,
   "id": "e636b873",
   "metadata": {},
   "outputs": [
    {
     "data": {
      "text/plain": [
       "{}"
      ]
     },
     "execution_count": 144,
     "metadata": {},
     "output_type": "execute_result"
    }
   ],
   "source": [
    "conf_list_filterted"
   ]
  },
  {
   "cell_type": "code",
   "execution_count": 145,
   "id": "50d12a34",
   "metadata": {},
   "outputs": [
    {
     "data": {
      "text/plain": [
       "0"
      ]
     },
     "execution_count": 145,
     "metadata": {},
     "output_type": "execute_result"
    }
   ],
   "source": [
    "len(list(conf_list_filterted.values()))"
   ]
  }
 ],
 "metadata": {
  "kernelspec": {
   "display_name": "Python 3 (ipykernel)",
   "language": "python",
   "name": "python3"
  },
  "language_info": {
   "codemirror_mode": {
    "name": "ipython",
    "version": 3
   },
   "file_extension": ".py",
   "mimetype": "text/x-python",
   "name": "python",
   "nbconvert_exporter": "python",
   "pygments_lexer": "ipython3",
   "version": "3.10.6"
  }
 },
 "nbformat": 4,
 "nbformat_minor": 5
}
