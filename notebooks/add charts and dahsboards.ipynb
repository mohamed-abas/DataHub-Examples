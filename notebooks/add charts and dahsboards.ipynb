{
 "cells": [
  {
   "cell_type": "markdown",
   "id": "28abf172",
   "metadata": {},
   "source": [
    "# Add Charts and Dashboards"
   ]
  },
  {
   "cell_type": "code",
   "execution_count": 9,
   "id": "6db310e6",
   "metadata": {},
   "outputs": [],
   "source": [
    "from typing import List\n",
    "import datahub.emitter.mce_builder as builder\n",
    "from datahub.emitter.mcp import MetadataChangeProposalWrapper\n",
    "from datahub.emitter.rest_emitter import DatahubRestEmitter\n",
    "from datahub.metadata.com.linkedin.pegasus2avro.dashboard import DashboardInfoClass\n",
    "from datahub.metadata.schema_classes import ChangeAuditStampsClass"
   ]
  },
  {
   "cell_type": "code",
   "execution_count": 10,
   "id": "56b5e41a",
   "metadata": {},
   "outputs": [],
   "source": [
    "token = "
   ]
  },
  {
   "cell_type": "code",
   "execution_count": 11,
   "id": "53cc4161",
   "metadata": {},
   "outputs": [],
   "source": [
    "emitter = DatahubRestEmitter(gms_server=\"http://localhost:8080\", extra_headers={'Authorization':  'Bearer '+token,\n",
    "                                            'Content-Type': 'application/json',})"
   ]
  },
  {
   "cell_type": "code",
   "execution_count": 12,
   "id": "71962aae",
   "metadata": {},
   "outputs": [
    {
     "data": {
      "text/plain": [
       "(datetime.datetime(2023, 7, 24, 8, 38, 29, 445868),\n",
       " datetime.datetime(2023, 7, 24, 8, 38, 29, 470621))"
      ]
     },
     "execution_count": 12,
     "metadata": {},
     "output_type": "execute_result"
    }
   ],
   "source": [
    "# Construct the DashboardInfo aspect with the charts -> dashboard lineage.\n",
    "\n",
    "charts_in_dashboard: List[str] = [\n",
    "    builder.make_chart_urn(platform=\"power bi\", name=\"Daily Employee Average\"),\n",
    "    builder.make_chart_urn(platform=\"power bi\", name=\"Total Number Employees all service centers\"),\n",
    "    builder.make_chart_urn(platform=\"power bi\", name=\"Sum of transactions total amount\"),\n",
    "    builder.make_chart_urn(platform=\"power bi\", name=\"Count of transactions\"),\n",
    "    builder.make_chart_urn(platform=\"power bi\", name=\"Average Transactions per Employee\"),\n",
    "    builder.make_chart_urn(platform=\"power bi\", name=\"Total Transactions By Center\"),\n",
    "    builder.make_chart_urn(platform=\"power bi\", name=\"Total Transactions By File Type\"),\n",
    "    builder.make_chart_urn(platform=\"power bi\", name=\"Total Transactions By Service\"),\n",
    "]\n",
    "\n",
    "\n",
    "\n",
    "last_modified = ChangeAuditStampsClass()\n",
    "\n",
    "dashboard_info = DashboardInfoClass(\n",
    "    title=\"Centers Analysis Overview Dashboard X\",\n",
    "    description=\"Centers Analysis Overview Dashboard English\",\n",
    "    lastModified=last_modified,\n",
    "    charts=charts_in_dashboard,\n",
    "    externalUrl = 'http://0.0.0.0/Reports/powerbi/centers'\n",
    ")\n",
    "\n",
    "# Construct a MetadataChangeProposalWrapper object with the DashboardInfo aspect.\n",
    "# NOTE: This will overwrite all of the existing dashboard aspect information associated with this dashboard.\n",
    "chart_info_mcp = MetadataChangeProposalWrapper(\n",
    "    entityUrn=builder.make_dashboard_urn(platform=\"power bi\", name=\"Centers Analysis Overview Dashboard X\"),\n",
    "    aspect=dashboard_info,\n",
    ")\n",
    "\n",
    "emitter.emit(chart_info_mcp)"
   ]
  }
 ],
 "metadata": {
  "kernelspec": {
   "display_name": "Python 3 (ipykernel)",
   "language": "python",
   "name": "python3"
  },
  "language_info": {
   "codemirror_mode": {
    "name": "ipython",
    "version": 3
   },
   "file_extension": ".py",
   "mimetype": "text/x-python",
   "name": "python",
   "nbconvert_exporter": "python",
   "pygments_lexer": "ipython3",
   "version": "3.10.6"
  }
 },
 "nbformat": 4,
 "nbformat_minor": 5
}
