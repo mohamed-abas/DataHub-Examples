{
 "cells": [
  {
   "cell_type": "markdown",
   "id": "c66a342a",
   "metadata": {},
   "source": [
    "## Add Machine learning model, model group using SDK."
   ]
  },
  {
   "cell_type": "code",
   "execution_count": 24,
   "id": "b6e8fe88",
   "metadata": {},
   "outputs": [],
   "source": [
    "# Inlined from /metadata-ingestion/examples/library/create_mlmodel_group.py\n",
    "import datahub.emitter.mce_builder as builder\n",
    "import datahub.metadata.schema_classes as models\n",
    "from datahub.emitter.mcp import MetadataChangeProposalWrapper\n",
    "from datahub.emitter.rest_emitter import DatahubRestEmitter"
   ]
  },
  {
   "cell_type": "code",
   "execution_count": 25,
   "id": "39545550",
   "metadata": {},
   "outputs": [],
   "source": [
    "token = "
   ]
  },
  {
   "cell_type": "markdown",
   "id": "9bdc271e",
   "metadata": {},
   "source": [
    "#### add model group"
   ]
  },
  {
   "cell_type": "code",
   "execution_count": 31,
   "id": "eaea4036",
   "metadata": {},
   "outputs": [],
   "source": [
    "# Create an emitter to DataHub over REST\n",
    "emitter = DatahubRestEmitter(gms_server=\"http://localhost:8080\", \n",
    "                             extra_headers={'Authorization':  'Bearer '+token,\n",
    "                                            'Content-Type': 'application/json',})"
   ]
  },
  {
   "cell_type": "code",
   "execution_count": 32,
   "id": "27c0cef3",
   "metadata": {},
   "outputs": [
    {
     "data": {
      "text/plain": [
       "(datetime.datetime(2023, 7, 11, 17, 8, 19, 936843),\n",
       " datetime.datetime(2023, 7, 11, 17, 8, 20, 24697))"
      ]
     },
     "execution_count": 32,
     "metadata": {},
     "output_type": "execute_result"
    }
   ],
   "source": [
    "model_group_urn = builder.make_ml_model_group_urn(\n",
    "    group_name=\"ml_predictive_group\", platform=\"Machine Learning\", env=\"EI\"\n",
    ")\n",
    "\n",
    "\n",
    "metadata_change_proposal = MetadataChangeProposalWrapper(\n",
    "    entityType=\"mlModelGroup\",\n",
    "    changeType=models.ChangeTypeClass.UPSERT,\n",
    "    entityUrn=model_group_urn,\n",
    "    aspectName=\"mlModelGroupProperties\",\n",
    "    aspect=models.MLModelGroupPropertiesClass(\n",
    "        description=\" Machine learning Model Group\",\n",
    "    ),\n",
    ")\n",
    "\n",
    "\n",
    "# Emit metadata!\n",
    "emitter.emit(metadata_change_proposal)"
   ]
  },
  {
   "cell_type": "markdown",
   "id": "9e5ecdd7",
   "metadata": {},
   "source": [
    "#### add model "
   ]
  },
  {
   "cell_type": "code",
   "execution_count": 60,
   "id": "88fda103",
   "metadata": {},
   "outputs": [
    {
     "data": {
      "text/plain": [
       "(datetime.datetime(2023, 7, 11, 17, 33, 45, 260705),\n",
       " datetime.datetime(2023, 7, 11, 17, 33, 45, 293394))"
      ]
     },
     "execution_count": 60,
     "metadata": {},
     "output_type": "execute_result"
    }
   ],
   "source": [
    "model_urn = builder.make_ml_model_urn(\n",
    "    model_name=\"Predict Number of Transactions\", platform=\"Machine Learning\", env=\"EI\"\n",
    ")\n",
    "\n",
    "model_group_urns = [\n",
    "    builder.make_ml_model_group_urn(\n",
    "        group_name=\"ml_predictive_group\", platform=\"Machine Learning\", env=\"EI\"\n",
    "    )\n",
    "]\n",
    "\n",
    "model.\n",
    "\n",
    "feature_urns = [\n",
    "    builder.make_ml_feature_urn(\n",
    "        feature_name=\"no_of_trs_yesterday\", feature_table_name=\"dwh_fact_transactions\"\n",
    "    ),\n",
    "    builder.make_ml_feature_urn(\n",
    "        feature_name=\"month\", feature_table_name=\"dwh_dim_date_time\"\n",
    "    ),\n",
    "        builder.make_ml_feature_urn(\n",
    "        feature_name=\"year\", feature_table_name=\"dwh_dim_date_time\"\n",
    "    ),\n",
    "]\n",
    "\n",
    "############################################################################\n",
    "metadata_change_proposal = MetadataChangeProposalWrapper(\n",
    "    entityType=\"mlModel\",\n",
    "    changeType=models.ChangeTypeClass.UPSERT,\n",
    "    entityUrn=model_urn,\n",
    "    aspectName=\"mlModelProperties\",\n",
    "    aspect=models.MLModelPropertiesClass(\n",
    "        description=\"Predict Number of Transactions daily for Vehicle Licensing\",\n",
    "        hyperParams = [models.MLHyperParamClass(name = 'Train-test split ratio',\n",
    "                         description= 'Train-test split ratio',\n",
    "                         value = '20%'),\n",
    "                       models.MLHyperParamClass(name = 'Learning Rate',\n",
    "                         description= 'Learning Rate',\n",
    "                         value = '.001'),\n",
    "                       models.MLHyperParamClass(name = 'optimization algorithm',\n",
    "                                                 description= 'optimization algorithm',\n",
    "                                                 value = 'ADAM'),\n",
    "                       models.MLHyperParamClass(name = 'Activation Functions',\n",
    "                                                 description= 'Activation Functions',\n",
    "                                                 value = 'Tanh'),\n",
    "                       models.MLHyperParamClass(name = 'Epochs',\n",
    "                                                 description= 'Epochs',\n",
    "                                                 value = '150'),\n",
    "                       models.MLHyperParamClass(name = 'Dropout rate',\n",
    "                                                 description= 'Dropout rate',\n",
    "                                                 value = '.1'),                      \n",
    "                       models.MLHyperParamClass(name = 'Number of hidden layers',\n",
    "                                                 description= 'Number of hiiden layers',\n",
    "                                                 value = '5'),                        \n",
    "                       models.MLHyperParamClass(name = 'Number of Neurons per Layer',\n",
    "                                                 description= 'Number of Neurons per Layer',\n",
    "                                                 value = '5'), \n",
    "                     ],\n",
    "        mlFeatures=feature_urns,\n",
    "        groups=model_group_urns,\n",
    "        trainingMetrics=[models.MLMetricClass(\n",
    "                                name= 'Mean Absolute Error',\n",
    "                                description= 'Mean Absolute Error',\n",
    "                                value = '15'\n",
    "                            ),\n",
    "                models.MLMetricClass(\n",
    "                                name= 'Root Mean Square Error',\n",
    "                                description= 'Root Mean Square Error',\n",
    "                                value = '1.3'\n",
    "                            ),    \n",
    "                models.MLMetricClass(\n",
    "                                name= 'Mean Absolute Percentage Error',\n",
    "                                description= 'Mean Absolute Percentage Error',\n",
    "                                value = '0.05'\n",
    "                            ), ]\n",
    " \n",
    "    ),\n",
    ")\n",
    "\n",
    "# Emit metadata!\n",
    "emitter.emit(metadata_change_proposal)\n",
    "\n"
   ]
  },
  {
   "cell_type": "code",
   "execution_count": 63,
   "id": "356e914f",
   "metadata": {},
   "outputs": [],
   "source": [
    "from datahub.ingestion.graph.client import DatahubClientConfig, DataHubGraph\n",
    "\n",
    "# Imports for metadata model classes\n",
    "from datahub.metadata.schema_classes import MLModelPropertiesClass\n",
    "\n",
    "# First we get the current owners\n",
    "gms_endpoint = \"http://localhost:8080\"\n",
    "graph = DataHubGraph(DatahubClientConfig(server=gms_endpoint, token = token))\n",
    "\n",
    "urn = \"urn:li:mlModel:(urn:li:dataPlatform:Machine Learning,Predict Number of Transactions,EI)\"\n",
    "result = graph.get_aspect(entity_urn=urn, aspect_type=MLModelPropertiesClass)"
   ]
  },
  {
   "cell_type": "code",
   "execution_count": 64,
   "id": "96340cb6",
   "metadata": {},
   "outputs": [
    {
     "name": "stdout",
     "output_type": "stream",
     "text": [
      "MLModelPropertiesClass({'customProperties': {}, 'externalUrl': None, 'description': 'Predict Number of Transactions daily for Vehicle Licensing', 'date': None, 'version': None, 'type': None, 'hyperParameters': None, 'hyperParams': [MLHyperParamClass({'name': 'Train-test split ratio', 'description': 'Train-test split ratio', 'value': '20%', 'createdAt': None}), MLHyperParamClass({'name': 'Learning Rate', 'description': 'Learning Rate', 'value': '.001', 'createdAt': None}), MLHyperParamClass({'name': 'optimization algorithm', 'description': 'optimization algorithm', 'value': 'ADAM', 'createdAt': None}), MLHyperParamClass({'name': 'Activation Functions', 'description': 'Activation Functions', 'value': 'Tanh', 'createdAt': None}), MLHyperParamClass({'name': 'Epochs', 'description': 'Epochs', 'value': '150', 'createdAt': None}), MLHyperParamClass({'name': 'Dropout rate', 'description': 'Dropout rate', 'value': '.1', 'createdAt': None}), MLHyperParamClass({'name': 'Number of hidden layers', 'description': 'Number of hiiden layers', 'value': '5', 'createdAt': None}), MLHyperParamClass({'name': 'Number of Neurons per Layer', 'description': 'Number of Neurons per Layer', 'value': '5', 'createdAt': None})], 'trainingMetrics': [MLMetricClass({'name': 'Mean Absolute Error', 'description': 'Mean Absolute Error', 'value': '15', 'createdAt': None}), MLMetricClass({'name': 'Root Mean Square Error', 'description': 'Root Mean Square Error', 'value': '1.3', 'createdAt': None}), MLMetricClass({'name': 'Mean Absolute Percentage Error', 'description': 'Mean Absolute Percentage Error', 'value': '0.05', 'createdAt': None})], 'onlineMetrics': None, 'mlFeatures': ['urn:li:mlFeature:(dwh_fact_vhl_transactions,no_of_trs_yesterday)', 'urn:li:mlFeature:(dwh_dim_date_time,month)', 'urn:li:mlFeature:(dwh_dim_date_time,year)'], 'tags': [], 'deployments': None, 'trainingJobs': None, 'downstreamJobs': None, 'groups': ['urn:li:mlModelGroup:(urn:li:dataPlatform:Machine Learning,vhl_ml_predictive_group,EI)']})\n"
     ]
    }
   ],
   "source": [
    "print(result)"
   ]
  }
 ],
 "metadata": {
  "kernelspec": {
   "display_name": "Python 3 (ipykernel)",
   "language": "python",
   "name": "python3"
  },
  "language_info": {
   "codemirror_mode": {
    "name": "ipython",
    "version": 3
   },
   "file_extension": ".py",
   "mimetype": "text/x-python",
   "name": "python",
   "nbconvert_exporter": "python",
   "pygments_lexer": "ipython3",
   "version": "3.10.12"
  }
 },
 "nbformat": 4,
 "nbformat_minor": 5
}
